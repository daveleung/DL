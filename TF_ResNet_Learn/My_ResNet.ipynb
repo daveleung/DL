{
 "cells": [
  {
   "cell_type": "code",
   "execution_count": 1,
   "metadata": {},
   "outputs": [],
   "source": [
    "import tensorflow as tf\n",
    "import numpy as np\n",
    "from data_utils import load_CIFAR10\n",
    "import matplotlib.pyplot as plt\n",
    "import math\n",
    "from resnet_model import *"
   ]
  },
  {
   "cell_type": "code",
   "execution_count": 2,
   "metadata": {
    "collapsed": true
   },
   "outputs": [],
   "source": [
    "# def get_CIFAR10_data(num_training=49000, num_validation=1000, num_test=1000, num_dev=500):    \n",
    "cifar10_dir = './cifar-10-batches-py'\n",
    "X_train,y_train,X_test,y_test = get_data(cifar10_dir)"
   ]
  },
  {
   "cell_type": "code",
   "execution_count": 3,
   "metadata": {},
   "outputs": [
    {
     "name": "stdout",
     "output_type": "stream",
     "text": [
      "(32, 32, 3)\n",
      "6\n"
     ]
    },
    {
     "data": {
      "image/png": "[encoded data removed]",
      "text/plain": [
       "<matplotlib.figure.Figure at 0x7fee19242810>"
      ]
     },
     "metadata": {},
     "output_type": "display_data"
    }
   ],
   "source": [
    "print(X_train[0].shape)\n",
    "print(y_train[0])\n",
    "first_img = X_train[90]\n",
    "def show_one_img(img):\n",
    "    plt.imshow(img.astype('uint8'))\n",
    "    plt.axis('off')\n",
    "    plt.show()\n",
    "# show_one_img(first_img)\n",
    "plt.imshow(first_img.astype('uint8'))\n",
    "plt.axis('off')\n",
    "plt.show()"
   ]
  },
  {
   "cell_type": "code",
   "execution_count": 3,
   "metadata": {},
   "outputs": [
    {
     "name": "stdout",
     "output_type": "stream",
     "text": [
      "('Train data shape: ', (49000, 32, 32, 3))\n",
      "('Train labels shape: ', (49000,))\n",
      "('Validation data shape: ', (1000, 32, 32, 3))\n",
      "('Validation labels shape: ', (1000,))\n",
      "('Test data shape: ', (1000, 32, 32, 3))\n",
      "('Test labels shape: ', (1000,))\n"
     ]
    }
   ],
   "source": [
    "num_training=49000\n",
    "num_validation=1000\n",
    "num_test=1000\n",
    "_BATCH_NORM_DECAY = 0.997\n",
    "_BATCH_NORM_EPSILON = 1e-5\n",
    "\n",
    "# subsample the data\n",
    "# data format [N,W,H,C]\n",
    "mask = list(range(num_training, num_training + num_validation))\n",
    "X_val = X_train[mask]\n",
    "y_val = y_train[mask]\n",
    "mask = list(range(num_training))\n",
    "X_train = X_train[mask]\n",
    "y_train = y_train[mask]\n",
    "mask = list(range(num_test))\n",
    "X_test = X_test[mask]\n",
    "y_test = y_test[mask]\n",
    "\n",
    "# Normalize the data: subtract the mean image\n",
    "mean_image = np.mean(X_train, axis = 0)\n",
    "X_train -= mean_image\n",
    "X_val -= mean_image\n",
    "X_test -= mean_image\n",
    "# X_dev -= mean_image\n",
    "\n",
    "print('Train data shape: ', X_train.shape)\n",
    "print('Train labels shape: ', y_train.shape)\n",
    "print('Validation data shape: ', X_val.shape)\n",
    "print('Validation labels shape: ', y_val.shape)\n",
    "print('Test data shape: ', X_test.shape)\n",
    "print('Test labels shape: ', y_test.shape)"
   ]
  },
  {
   "cell_type": "code",
   "execution_count": 4,
   "metadata": {},
   "outputs": [],
   "source": [
    "### tf.reset_default_graph()\n",
    "\n",
    "X = tf.placeholder(tf.float32, [None, 32, 32, 3])\n",
    "y = tf.placeholder(tf.int32, [None,])\n",
    "# print(y.shape)\n",
    "is_training = tf.placeholder(tf.bool)\n",
    "\n",
    "learning_rate = 0.5\n",
    "cla_score = my_resnet(X, is_training=True, resnet_size=20, num_classes=10, data_format='channels_last')\n",
    "# print(cla_score)\n",
    "cost = tf.reduce_mean(tf.nn.softmax_cross_entropy_with_logits(logits=cla_score, labels=tf.one_hot(y,10)))\n",
    "optimizer = tf.train.AdamOptimizer(learning_rate=learning_rate).minimize(cost)\n",
    "\n",
    "predict_y = y\n",
    "is_correct = tf.argmax(cla_score,axis = 1)\n",
    "is_correct = tf.equal(is_correct, tf.cast(predict_y, tf.int64))\n",
    "# is_correct = tf.reduce_mean(is_correct)\n",
    "is_correct = tf.cast(is_correct, tf.float32)\n",
    "accuracy = tf.reduce_mean(is_correct)\n",
    "# accuracy = tf.reduce_mean(tf.cast(is_correct, tf.float32))\n",
    "# accuracy = tf.reduce_mean(tf.cast(tf.argmax(cla_score,axis = 1) == y, tf.float32))"
   ]
  },
  {
   "cell_type": "code",
   "execution_count": 5,
   "metadata": {},
   "outputs": [
    {
     "name": "stdout",
     "output_type": "stream",
     "text": [
      "epoch:0,cost:2.415462\n",
      "epoch:0,cost:2.327487\n",
      "epoch:0,cost:2.347136\n",
      "epoch:0,cost:2.349035\n",
      "epoch:0,cost:2.298084\n",
      "epoch:1,cost:2.321191\n",
      "epoch:1,cost:2.332924\n",
      "epoch:1,cost:2.342546\n",
      "epoch:1,cost:2.351936\n",
      "epoch:1,cost:2.299914\n",
      "epoch:2,cost:2.322599\n",
      "epoch:2,cost:2.332692\n",
      "epoch:2,cost:2.343432\n",
      "epoch:2,cost:2.353025\n",
      "epoch:2,cost:2.300378\n",
      "epoch:3,cost:2.323079\n",
      "epoch:3,cost:2.332561\n",
      "epoch:3,cost:2.343930\n",
      "epoch:3,cost:2.353434\n",
      "epoch:3,cost:2.300545\n",
      "epoch:4,cost:2.323275\n",
      "epoch:4,cost:2.332486\n",
      "epoch:4,cost:2.344161\n",
      "epoch:4,cost:2.353606\n",
      "epoch:4,cost:2.300618\n"
     ]
    }
   ],
   "source": [
    "train_indicies = np.arange(X_train.shape[0])\n",
    "\n",
    "with tf.Session() as sess:\n",
    "    init = tf.global_variables_initializer()\n",
    "    sess.run(init)\n",
    "    batch_size = 100\n",
    "    train_epochs = 5\n",
    "\n",
    "    for epoch in range(train_epochs):\n",
    "        avg_cost = 0\n",
    "        total_batch = int(math.ceil(X_train.shape[0]/batch_size))\n",
    "        for i in range(total_batch):\n",
    "            start_idx = (i*batch_size)%X_train.shape[0]\n",
    "            idx = train_indicies[start_idx:start_idx+batch_size]\n",
    "#             print(X_train[idx,:].shape)\n",
    "#             print(y_train[idx])\n",
    "#             break\n",
    "            feed_dict = {X: X_train[idx,:],y: y_train[idx]}\n",
    "            c,_ = sess.run([cost, optimizer], feed_dict=feed_dict)\n",
    "# #             avg_cost += c / total_batch\n",
    "            if i%100 == 0:\n",
    "#                 is_correct = sess.run(accuracy, feed_dict=feed_dict)\n",
    "#                 print(y_train[idx])\n",
    "#                 print(is_correct)\n",
    "#                 print(np.argmax(train_acc,axis=1))\n",
    "#                 break\n",
    "                print(\"epoch:%d,cost:%f\"%(epoch, c))\n",
    "#                 print(\"epoch:%d,cost:%f,train_acc:%f\"%(epoch, c, is_correct))"
   ]
  }
 ],
 "metadata": {
  "kernelspec": {
   "display_name": "Python 2",
   "language": "python",
   "name": "python2"
  },
  "language_info": {
   "codemirror_mode": {
    "name": "ipython",
    "version": 2
   },
   "file_extension": ".py",
   "mimetype": "text/x-python",
   "name": "python",
   "nbconvert_exporter": "python",
   "pygments_lexer": "ipython2",
   "version": "2.7.13"
  }
 },
 "nbformat": 4,
 "nbformat_minor": 2
}
