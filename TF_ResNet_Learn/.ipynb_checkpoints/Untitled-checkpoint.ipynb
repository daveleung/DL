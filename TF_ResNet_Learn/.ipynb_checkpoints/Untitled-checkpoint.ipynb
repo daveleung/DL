{
 "cells": [
  {
   "cell_type": "code",
   "execution_count": 4,
   "metadata": {},
   "outputs": [
    {
     "name": "stdout",
     "output_type": "stream",
     "text": [
      "Epoch: [1/1], Iter: [100/490], cost: 2.270102, train_acc:0.150000\n",
      "Epoch: [1/1], Iter: [200/490], cost: 2.009353, train_acc:0.260000\n",
      "Epoch: [1/1], Iter: [300/490], cost: 1.822603, train_acc:0.320000\n",
      "Epoch: [1/1], Iter: [400/490], cost: 1.707425, train_acc:0.380000\n",
      "Epoch: 1,cost: 1.642805, test_acc:0.370000\n"
     ]
    },
    {
     "data": {
      "image/png": "[encoded data removed]",
      "text/plain": [
       "<matplotlib.figure.Figure at 0x7f531c7c5c90>"
      ]
     },
     "metadata": {},
     "output_type": "display_data"
    }
   ],
   "source": [
    "import tensorflow as tf\n",
    "import numpy as np\n",
    "from data_utils import load_CIFAR10\n",
    "import matplotlib.pyplot as plt\n",
    "import math\n",
    "from resnet_model import *\n",
    "\n",
    "# def get_CIFAR10_data(num_training=49000, num_validation=1000, num_test=1000, num_dev=500):\n",
    "cifar10_dir = './cifar-10-batches-py'\n",
    "X_train,y_train,X_test,y_test = get_data(cifar10_dir)\n",
    "\n",
    "### tf.reset_default_graph()\n",
    "\n",
    "X = tf.placeholder(tf.float32, [None, 32, 32, 3])\n",
    "y = tf.placeholder(tf.int32, [None,])\n",
    "is_training = tf.placeholder(tf.bool)\n",
    "\n",
    "learning_rate = 0.1\n",
    "cla_score = my_resnet(X, is_training=True, resnet_size=20, num_classes=10, data_format='channels_last')\n",
    "cost = tf.reduce_mean(tf.nn.softmax_cross_entropy_with_logits(logits=cla_score, labels=tf.one_hot(y,10)))\n",
    "optimizer = tf.train.AdamOptimizer(learning_rate=learning_rate).minimize(cost)\n",
    "\n",
    "predict_y = y\n",
    "is_correct = tf.argmax(cla_score,axis = 1)\n",
    "is_correct = tf.equal(is_correct, tf.cast(predict_y, tf.int64))\n",
    "is_correct = tf.cast(is_correct, tf.float32)\n",
    "accuracy = tf.reduce_mean(is_correct)\n",
    "# accuracy = tf.reduce_mean(tf.cast(is_correct, tf.float32))\n",
    "# accuracy = tf.reduce_mean(tf.cast(tf.argmax(cla_score,axis = 1) == y, tf.float32))\n",
    "\n",
    "train_indicies = np.arange(X_train.shape[0])\n",
    "\n",
    "with tf.Session() as sess:\n",
    "    init = tf.global_variables_initializer()\n",
    "    sess.run(init)\n",
    "    batch_size = 100\n",
    "    train_epochs = 20\n",
    "    cost_history = []\n",
    "    for epoch in range(1,train_epochs+1):\n",
    "        avg_cost = 0\n",
    "\n",
    "        total_batch = int(math.ceil(X_train.shape[0]/batch_size))\n",
    "        for iter in range(1,total_batch+1):\n",
    "            start_idx = (iter*batch_size)%X_train.shape[0]\n",
    "            idx = train_indicies[start_idx:start_idx+batch_size]\n",
    "            feed_dict = {X: X_train[idx,:],y: y_train[idx]}\n",
    "            c,_ = sess.run([cost, optimizer], feed_dict=feed_dict)\n",
    "            cost_history.append(c)\n",
    "            if iter%100 == 0:\n",
    "              train_acc = sess.run(accuracy, feed_dict=feed_dict)\n",
    "              print(\"Epoch: [%d/%d], Iter: [%d/%d], cost: %f, train_acc:%f\"%\\\n",
    "                    (epoch, train_epochs, iter, total_batch, c, train_acc))\n",
    "        shuffle_num = int(np.ceil(np.abs(np.random.randn() * 100)))\n",
    "        idx_test = train_indicies[shuffle_num:shuffle_num + batch_size]\n",
    "        test_feed_dict = {X: X_test[idx_test, :], y: y_test[idx_test]}\n",
    "        c,test_acc = sess.run([cost,accuracy], feed_dict=test_feed_dict)\n",
    "        print(\"Epoch: %d,cost: %f, test_acc:%f\"%\\\n",
    "              (epoch, c, test_acc))\n",
    "    plt.plot(cost_history)\n",
    "    plt.grid(True)\n",
    "    plt.title('Epoch {} Loss'.format(e+1))\n",
    "    plt.xlabel('minibatch number')\n",
    "    plt.ylabel('minibatch loss')\n",
    "    plt.show()"
   ]
  },
  {
   "cell_type": "code",
   "execution_count": null,
   "metadata": {
    "collapsed": true
   },
   "outputs": [],
   "source": []
  }
 ],
 "metadata": {
  "kernelspec": {
   "display_name": "Python 2",
   "language": "python",
   "name": "python2"
  },
  "language_info": {
   "codemirror_mode": {
    "name": "ipython",
    "version": 2
   },
   "file_extension": ".py",
   "mimetype": "text/x-python",
   "name": "python",
   "nbconvert_exporter": "python",
   "pygments_lexer": "ipython2",
   "version": "2.7.13"
  }
 },
 "nbformat": 4,
 "nbformat_minor": 2
}
